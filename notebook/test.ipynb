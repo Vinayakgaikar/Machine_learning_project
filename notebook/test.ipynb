{
 "cells": [
  {
   "cell_type": "code",
   "execution_count": 117,
   "metadata": {},
   "outputs": [],
   "source": [
    "import os"
   ]
  },
  {
   "cell_type": "code",
   "execution_count": 118,
   "metadata": {},
   "outputs": [
    {
     "data": {
      "text/plain": [
       "'c:\\\\Users\\\\VINAYAK\\\\Projects\\\\Housing_Predictor'"
      ]
     },
     "execution_count": 118,
     "metadata": {},
     "output_type": "execute_result"
    }
   ],
   "source": [
    "os.getcwd()"
   ]
  },
  {
   "cell_type": "code",
   "execution_count": 119,
   "metadata": {},
   "outputs": [],
   "source": [
    "os.chdir(\"c:\\\\Users\\\\VINAYAK\\\\Projects\\\\Housing_Predictor\")"
   ]
  },
  {
   "cell_type": "code",
   "execution_count": 120,
   "metadata": {},
   "outputs": [],
   "source": [
    "import config"
   ]
  },
  {
   "cell_type": "code",
   "execution_count": 121,
   "metadata": {},
   "outputs": [],
   "source": [
    "from housing.config.configuration import Configuration"
   ]
  },
  {
   "cell_type": "code",
   "execution_count": 122,
   "metadata": {},
   "outputs": [],
   "source": [
    "from housing.entity.config_entity import DataIngestionConfig"
   ]
  },
  {
   "cell_type": "code",
   "execution_count": 123,
   "metadata": {},
   "outputs": [],
   "source": [
    "config = Configuration()"
   ]
  },
  {
   "cell_type": "code",
   "execution_count": 124,
   "metadata": {},
   "outputs": [],
   "source": [
    "data_ingestion_config =config.get_data_ingestion_config()"
   ]
  },
  {
   "cell_type": "code",
   "execution_count": 125,
   "metadata": {},
   "outputs": [],
   "source": [
    "from housing.component.data_ingestion import DataIngestion"
   ]
  },
  {
   "cell_type": "code",
   "execution_count": 126,
   "metadata": {},
   "outputs": [],
   "source": [
    "from housing.entity.artifact_entity import DataIngestionArtifact"
   ]
  },
  {
   "cell_type": "code",
   "execution_count": 127,
   "metadata": {},
   "outputs": [
    {
     "data": {
      "text/plain": [
       "<housing.component.data_ingestion.DataIngestion at 0x240920fa3a0>"
      ]
     },
     "execution_count": 127,
     "metadata": {},
     "output_type": "execute_result"
    }
   ],
   "source": [
    "data_ingestion =DataIngestion(data_ingestion_config=data_ingestion_config)\n",
    "data_ingestion"
   ]
  },
  {
   "cell_type": "code",
   "execution_count": 128,
   "metadata": {},
   "outputs": [
    {
     "data": {
      "text/plain": [
       "'c:\\\\Users\\\\VINAYAK\\\\Projects\\\\Housing_Predictor\\\\housing\\\\artifact\\\\data_ingestion\\\\2022-11-13-11-07-48\\\\tgz_data\\\\housing.tgz'"
      ]
     },
     "execution_count": 128,
     "metadata": {},
     "output_type": "execute_result"
    }
   ],
   "source": [
    "d=data_ingestion.download_housing_data()\n",
    "d"
   ]
  },
  {
   "cell_type": "code",
   "execution_count": 116,
   "metadata": {},
   "outputs": [
    {
     "ename": "HousingException",
     "evalue": "\n        Error occured in script: \n        [ c:\\Users\\VINAYAK\\Projects\\Housing_Predictor\\housing\\component\\data_ingestion.py ] at \n        try block line number: [55] and exception block line number: [65] \n        error message: [[WinError 5] Access is denied: 'c:\\\\Users\\\\VINAYAK\\\\Projects\\\\Housing_Predictor\\\\housing\\\\artifact\\\\data_ingestion\\\\2022-11-13-11-07-48\\\\raw_data']\n        ",
     "output_type": "error",
     "traceback": [
      "\u001b[1;31m---------------------------------------------------------------------------\u001b[0m",
      "\u001b[1;31mPermissionError\u001b[0m                           Traceback (most recent call last)",
      "File \u001b[1;32mc:\\Users\\VINAYAK\\Projects\\Housing_Predictor\\housing\\component\\data_ingestion.py:55\u001b[0m, in \u001b[0;36mDataIngestion.extract_tgz_file\u001b[1;34m(self, tgz_file_path)\u001b[0m\n\u001b[0;32m     54\u001b[0m \u001b[39mif\u001b[39;00m os\u001b[39m.\u001b[39mpath\u001b[39m.\u001b[39mexists(raw_data_dir):\n\u001b[1;32m---> 55\u001b[0m     os\u001b[39m.\u001b[39;49mremove(raw_data_dir)\n\u001b[0;32m     57\u001b[0m os\u001b[39m.\u001b[39mmakedirs(raw_data_dir,exist_ok\u001b[39m=\u001b[39m\u001b[39mTrue\u001b[39;00m)\n",
      "\u001b[1;31mPermissionError\u001b[0m: [WinError 5] Access is denied: 'c:\\\\Users\\\\VINAYAK\\\\Projects\\\\Housing_Predictor\\\\housing\\\\artifact\\\\data_ingestion\\\\2022-11-13-11-07-48\\\\raw_data'",
      "\nThe above exception was the direct cause of the following exception:\n",
      "\u001b[1;31mHousingException\u001b[0m                          Traceback (most recent call last)",
      "Cell \u001b[1;32mIn [116], line 1\u001b[0m\n\u001b[1;32m----> 1\u001b[0m data_ingestion\u001b[39m.\u001b[39;49mextract_tgz_file(d)\n",
      "File \u001b[1;32mc:\\Users\\VINAYAK\\Projects\\Housing_Predictor\\housing\\component\\data_ingestion.py:65\u001b[0m, in \u001b[0;36mDataIngestion.extract_tgz_file\u001b[1;34m(self, tgz_file_path)\u001b[0m\n\u001b[0;32m     62\u001b[0m     logging\u001b[39m.\u001b[39minfo(\u001b[39mf\u001b[39m\u001b[39m\"\u001b[39m\u001b[39mExtraction completed\u001b[39m\u001b[39m\"\u001b[39m)\n\u001b[0;32m     64\u001b[0m \u001b[39mexcept\u001b[39;00m \u001b[39mException\u001b[39;00m \u001b[39mas\u001b[39;00m e:\n\u001b[1;32m---> 65\u001b[0m     \u001b[39mraise\u001b[39;00m HousingException(e,sys) \u001b[39mfrom\u001b[39;00m \u001b[39me\u001b[39;00m\n",
      "\u001b[1;31mHousingException\u001b[0m: \n        Error occured in script: \n        [ c:\\Users\\VINAYAK\\Projects\\Housing_Predictor\\housing\\component\\data_ingestion.py ] at \n        try block line number: [55] and exception block line number: [65] \n        error message: [[WinError 5] Access is denied: 'c:\\\\Users\\\\VINAYAK\\\\Projects\\\\Housing_Predictor\\\\housing\\\\artifact\\\\data_ingestion\\\\2022-11-13-11-07-48\\\\raw_data']\n        "
     ]
    }
   ],
   "source": [
    "data_ingestion.extract_tgz_file(d)"
   ]
  },
  {
   "cell_type": "code",
   "execution_count": 153,
   "metadata": {},
   "outputs": [
    {
     "data": {
      "text/plain": [
       "DataIngestionArtifact(train_file_path='c:\\\\Users\\\\VINAYAK\\\\Projects\\\\Housing_Predictor\\\\housing\\\\artifact\\\\data_ingestion\\\\2022-11-13-11-07-48\\\\ingested_data\\\\train\\\\housing.csv', test_file_path='c:\\\\Users\\\\VINAYAK\\\\Projects\\\\Housing_Predictor\\\\housing\\\\artifact\\\\data_ingestion\\\\2022-11-13-11-07-48\\\\ingested_data\\\\test\\\\housing.csv', is_ingested=True, message='Data ingestion completed successfully.')"
      ]
     },
     "execution_count": 153,
     "metadata": {},
     "output_type": "execute_result"
    }
   ],
   "source": [
    "data_ingestion.split_data_as_train_test()"
   ]
  },
  {
   "cell_type": "code",
   "execution_count": 129,
   "metadata": {},
   "outputs": [
    {
     "ename": "HousingException",
     "evalue": "\n        Error occured in script: \n        [ c:\\Users\\VINAYAK\\Projects\\Housing_Predictor\\housing\\component\\data_ingestion.py ] at \n        try block line number: [131] and exception block line number: [135] \n        error message: [\n        Error occured in script: \n        [ c:\\Users\\VINAYAK\\Projects\\Housing_Predictor\\housing\\component\\data_ingestion.py ] at \n        try block line number: [55] and exception block line number: [65] \n        error message: [[WinError 5] Access is denied: 'c:\\\\Users\\\\VINAYAK\\\\Projects\\\\Housing_Predictor\\\\housing\\\\artifact\\\\data_ingestion\\\\2022-11-13-11-07-48\\\\raw_data']\n        ]\n        ",
     "output_type": "error",
     "traceback": [
      "\u001b[1;31m---------------------------------------------------------------------------\u001b[0m",
      "\u001b[1;31mPermissionError\u001b[0m                           Traceback (most recent call last)",
      "File \u001b[1;32mc:\\Users\\VINAYAK\\Projects\\Housing_Predictor\\housing\\component\\data_ingestion.py:55\u001b[0m, in \u001b[0;36mDataIngestion.extract_tgz_file\u001b[1;34m(self, tgz_file_path)\u001b[0m\n\u001b[0;32m     54\u001b[0m \u001b[39mif\u001b[39;00m os\u001b[39m.\u001b[39mpath\u001b[39m.\u001b[39mexists(raw_data_dir):\n\u001b[1;32m---> 55\u001b[0m     os\u001b[39m.\u001b[39;49mremove(raw_data_dir)\n\u001b[0;32m     57\u001b[0m os\u001b[39m.\u001b[39mmakedirs(raw_data_dir,exist_ok\u001b[39m=\u001b[39m\u001b[39mTrue\u001b[39;00m)\n",
      "\u001b[1;31mPermissionError\u001b[0m: [WinError 5] Access is denied: 'c:\\\\Users\\\\VINAYAK\\\\Projects\\\\Housing_Predictor\\\\housing\\\\artifact\\\\data_ingestion\\\\2022-11-13-11-07-48\\\\raw_data'",
      "\nThe above exception was the direct cause of the following exception:\n",
      "\u001b[1;31mHousingException\u001b[0m                          Traceback (most recent call last)",
      "File \u001b[1;32mc:\\Users\\VINAYAK\\Projects\\Housing_Predictor\\housing\\component\\data_ingestion.py:131\u001b[0m, in \u001b[0;36mDataIngestion.initiate_data_ingestion\u001b[1;34m(self)\u001b[0m\n\u001b[0;32m    130\u001b[0m tgz_file_path \u001b[39m=\u001b[39m  \u001b[39mself\u001b[39m\u001b[39m.\u001b[39mdownload_housing_data()\n\u001b[1;32m--> 131\u001b[0m \u001b[39mself\u001b[39;49m\u001b[39m.\u001b[39;49mextract_tgz_file(tgz_file_path\u001b[39m=\u001b[39;49mtgz_file_path)\n\u001b[0;32m    132\u001b[0m \u001b[39mreturn\u001b[39;00m \u001b[39mself\u001b[39m\u001b[39m.\u001b[39msplit_data_as_train_test()\n",
      "File \u001b[1;32mc:\\Users\\VINAYAK\\Projects\\Housing_Predictor\\housing\\component\\data_ingestion.py:65\u001b[0m, in \u001b[0;36mDataIngestion.extract_tgz_file\u001b[1;34m(self, tgz_file_path)\u001b[0m\n\u001b[0;32m     64\u001b[0m \u001b[39mexcept\u001b[39;00m \u001b[39mException\u001b[39;00m \u001b[39mas\u001b[39;00m e:\n\u001b[1;32m---> 65\u001b[0m     \u001b[39mraise\u001b[39;00m HousingException(e,sys) \u001b[39mfrom\u001b[39;00m \u001b[39me\u001b[39;00m\n",
      "\u001b[1;31mHousingException\u001b[0m: \n        Error occured in script: \n        [ c:\\Users\\VINAYAK\\Projects\\Housing_Predictor\\housing\\component\\data_ingestion.py ] at \n        try block line number: [55] and exception block line number: [65] \n        error message: [[WinError 5] Access is denied: 'c:\\\\Users\\\\VINAYAK\\\\Projects\\\\Housing_Predictor\\\\housing\\\\artifact\\\\data_ingestion\\\\2022-11-13-11-07-48\\\\raw_data']\n        ",
      "\nThe above exception was the direct cause of the following exception:\n",
      "\u001b[1;31mHousingException\u001b[0m                          Traceback (most recent call last)",
      "Cell \u001b[1;32mIn [129], line 1\u001b[0m\n\u001b[1;32m----> 1\u001b[0m data_ingestion\u001b[39m.\u001b[39;49minitiate_data_ingestion()\n",
      "File \u001b[1;32mc:\\Users\\VINAYAK\\Projects\\Housing_Predictor\\housing\\component\\data_ingestion.py:135\u001b[0m, in \u001b[0;36mDataIngestion.initiate_data_ingestion\u001b[1;34m(self)\u001b[0m\n\u001b[0;32m    132\u001b[0m     \u001b[39mreturn\u001b[39;00m \u001b[39mself\u001b[39m\u001b[39m.\u001b[39msplit_data_as_train_test()\n\u001b[0;32m    134\u001b[0m \u001b[39mexcept\u001b[39;00m \u001b[39mException\u001b[39;00m \u001b[39mas\u001b[39;00m e:\n\u001b[1;32m--> 135\u001b[0m     \u001b[39mraise\u001b[39;00m HousingException(e,sys) \u001b[39mfrom\u001b[39;00m \u001b[39me\u001b[39;00m\n",
      "\u001b[1;31mHousingException\u001b[0m: \n        Error occured in script: \n        [ c:\\Users\\VINAYAK\\Projects\\Housing_Predictor\\housing\\component\\data_ingestion.py ] at \n        try block line number: [131] and exception block line number: [135] \n        error message: [\n        Error occured in script: \n        [ c:\\Users\\VINAYAK\\Projects\\Housing_Predictor\\housing\\component\\data_ingestion.py ] at \n        try block line number: [55] and exception block line number: [65] \n        error message: [[WinError 5] Access is denied: 'c:\\\\Users\\\\VINAYAK\\\\Projects\\\\Housing_Predictor\\\\housing\\\\artifact\\\\data_ingestion\\\\2022-11-13-11-07-48\\\\raw_data']\n        ]\n        "
     ]
    }
   ],
   "source": [
    "data_ingestion.initiate_data_ingestion()"
   ]
  },
  {
   "cell_type": "code",
   "execution_count": 130,
   "metadata": {},
   "outputs": [],
   "source": [
    "data_validation_config =config.get_data_validation_config()"
   ]
  },
  {
   "cell_type": "code",
   "execution_count": 142,
   "metadata": {},
   "outputs": [],
   "source": [
    "from housing.component.data_validation import DataValidationConfig,DataValidationArtifact,DataValidation"
   ]
  },
  {
   "cell_type": "code",
   "execution_count": 143,
   "metadata": {},
   "outputs": [],
   "source": [
    "from housing.entity.artifact_entity import DataIngestionArtifact"
   ]
  },
  {
   "cell_type": "code",
   "execution_count": null,
   "metadata": {},
   "outputs": [],
   "source": [
    "data_ingestion_artifact=data_ingestion.split_data_as_train_test()"
   ]
  },
  {
   "cell_type": "code",
   "execution_count": 158,
   "metadata": {},
   "outputs": [],
   "source": [
    "data_validation=DataValidation(data_validation_config=data_validation_config,data_ingestion_artifact=data_ingestion_artifact)"
   ]
  },
  {
   "cell_type": "code",
   "execution_count": 156,
   "metadata": {},
   "outputs": [],
   "source": [
    "train_file=data_ingestion.split_data_as_train_test().train_file_path"
   ]
  },
  {
   "cell_type": "code",
   "execution_count": 157,
   "metadata": {},
   "outputs": [],
   "source": [
    "data_ingestion_artifact=data_ingestion.split_data_as_train_test()"
   ]
  },
  {
   "cell_type": "code",
   "execution_count": 161,
   "metadata": {},
   "outputs": [
    {
     "data": {
      "text/plain": [
       "'c:\\\\Users\\\\VINAYAK\\\\Projects\\\\Housing_Predictor\\\\config\\\\schema.yaml'"
      ]
     },
     "execution_count": 161,
     "metadata": {},
     "output_type": "execute_result"
    }
   ],
   "source": [
    "data_validation.initiate_data_validation().schema_file_path"
   ]
  },
  {
   "cell_type": "code",
   "execution_count": null,
   "metadata": {},
   "outputs": [],
   "source": []
  }
 ],
 "metadata": {
  "kernelspec": {
   "display_name": "Python 3.9.13 (conda)",
   "language": "python",
   "name": "python3"
  },
  "language_info": {
   "codemirror_mode": {
    "name": "ipython",
    "version": 3
   },
   "file_extension": ".py",
   "mimetype": "text/x-python",
   "name": "python",
   "nbconvert_exporter": "python",
   "pygments_lexer": "ipython3",
   "version": "3.9.13"
  },
  "orig_nbformat": 4,
  "vscode": {
   "interpreter": {
    "hash": "b24846852c739fd51b0baa60679520f6ea2de9333567891c968a713bb91f62e4"
   }
  }
 },
 "nbformat": 4,
 "nbformat_minor": 2
}
